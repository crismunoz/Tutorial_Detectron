{
  "nbformat": 4,
  "nbformat_minor": 0,
  "metadata": {
    "accelerator": "GPU",
    "colab": {
      "name": "Detectron2_infernece.ipynb",
      "provenance": [],
      "collapsed_sections": [],
      "authorship_tag": "ABX9TyOXiwRp3hxp1tMVPvec+vjp",
      "include_colab_link": true
    },
    "kernelspec": {
      "display_name": "Python 3",
      "name": "python3"
    },
    "language_info": {
      "name": "python"
    }
  },
  "cells": [
    {
      "cell_type": "markdown",
      "metadata": {
        "id": "view-in-github",
        "colab_type": "text"
      },
      "source": [
        "<a href=\"https://colab.research.google.com/github/crismunoz/Tutorial_Detectron/blob/main/Detectron2_infernece.ipynb\" target=\"_parent\"><img src=\"https://colab.research.google.com/assets/colab-badge.svg\" alt=\"Open In Colab\"/></a>"
      ]
    },
    {
      "cell_type": "code",
      "metadata": {
        "id": "FtI94D4xEPAr"
      },
      "source": [
        "# install dependencies: \n",
        "!pip install pyyaml==5.1\n",
        "import torch, torchvision\n",
        "print(torch.__version__, torch.cuda.is_available())\n",
        "!gcc --version\n",
        "# opencv is pre-installed on colab\n",
        "\n",
        "# install detectron2: (Colab has CUDA 10.1 + torch 1.8)\n",
        "# See https://detectron2.readthedocs.io/tutorials/install.html for instructions\n",
        "import torch\n",
        "assert torch.__version__.startswith(\"1.8\")   # need to manually install torch 1.8 if Colab changes its default version\n",
        "!pip install detectron2 -f https://dl.fbaipublicfiles.com/detectron2/wheels/cu101/torch1.8/index.html\n",
        "# exit(0)  # After installation, you need to \"restart runtime\" in Colab. This line can also restart runtime\n",
        "!pip install -U kora"
      ],
      "execution_count": null,
      "outputs": []
    },
    {
      "cell_type": "code",
      "metadata": {
        "id": "LU1-EVs3ESSV"
      },
      "source": [
        "# Some basic setup:\n",
        "# Setup detectron2 logger\n",
        "import detectron2\n",
        "from detectron2.utils.logger import setup_logger\n",
        "setup_logger()\n",
        "import sys\n",
        "# import some common libraries\n",
        "import numpy as np\n",
        "import os, json, cv2, random\n",
        "from google.colab.patches import cv2_imshow\n",
        "\n",
        "# import some common detectron2 utilities\n",
        "from detectron2 import model_zoo\n",
        "from detectron2.engine import DefaultPredictor\n",
        "from detectron2.config import get_cfg\n",
        "from detectron2.utils.visualizer import Visualizer\n",
        "from detectron2.data import MetadataCatalog, DatasetCatalog\n",
        "from detectron2.engine import DefaultTrainer\n",
        "import matplotlib.pyplot as plt\n",
        "from kora.drive import upload_public\n",
        "from IPython.display import HTML\n",
        "def show_image(img):\n",
        "  plt.figure(figsize=(10,10))\n",
        "  plt.imshow(img)\n",
        "  plt.axis('off')\n",
        "  plt.show()"
      ],
      "execution_count": null,
      "outputs": []
    },
    {
      "cell_type": "markdown",
      "metadata": {
        "id": "4M_Xt36gC_uX"
      },
      "source": [
        "Inferencia em uma imagem\n",
        "1. Baixar uma imagem de exemplo\n",
        "2. abrir imagem usando cv2\n",
        "3. mostrar imagem"
      ]
    },
    {
      "cell_type": "code",
      "metadata": {
        "id": "ZTn6EZ7lk4Gu"
      },
      "source": [
        "!wget http://images.cocodataset.org/val2017/000000439715.jpg -O input.jpg\n",
        "\n",
        "im = cv2.imread(\"./input.jpg\")\n",
        "show_image(im[:,:,::-1])"
      ],
      "execution_count": null,
      "outputs": []
    },
    {
      "cell_type": "markdown",
      "metadata": {
        "id": "MBjOysxvDecF"
      },
      "source": [
        "Configuração e definição do modelo:"
      ]
    },
    {
      "cell_type": "code",
      "metadata": {
        "id": "M7UhXViCIjEL"
      },
      "source": [
        "cfg = get_cfg()\n",
        "config_file=\"COCO-InstanceSegmentation/mask_rcnn_R_50_FPN_3x.yaml\"\n",
        "cfg.merge_from_file(model_zoo.get_config_file(config_file))\n",
        "cfg.MODEL.WEIGHTS = model_zoo.get_checkpoint_url(config_file)  # Let training initialize from model zoo\n",
        "cfg.MODEL.ROI_HEADS.SCORE_THRESH_TEST = 0.5   # set a custom testing threshold\n",
        "metadata = MetadataCatalog.get(cfg.DATASETS.TRAIN[0])\n",
        "predictor = DefaultPredictor(cfg)\n",
        "outputs = predictor(im)"
      ],
      "execution_count": null,
      "outputs": []
    },
    {
      "cell_type": "code",
      "metadata": {
        "id": "TwdIHRaGldrd"
      },
      "source": [
        "#classes = outputs[\"instances\"].pred_classes.cpu().numpy()\n",
        "#masks = outputs['instances'].pred_masks.cpu().numpy()\n",
        "#boxes = outputs['instances'].pred_boxes.tensor.cpu().numpy()\n",
        "#[metadata.thing_classes[c] for c in classes]"
      ],
      "execution_count": null,
      "outputs": []
    },
    {
      "cell_type": "markdown",
      "metadata": {
        "id": "n2T9Fp7VDtwS"
      },
      "source": [
        "Visualização de resultado:"
      ]
    },
    {
      "cell_type": "code",
      "metadata": {
        "id": "TkUXN9-Yl7KT"
      },
      "source": [
        "v = Visualizer(im[:, :, ::-1], metadata, scale=1.2)\n",
        "v = v.draw_instance_predictions(outputs[\"instances\"].to(\"cpu\"))\n",
        "show_image(v.get_image())"
      ],
      "execution_count": null,
      "outputs": []
    },
    {
      "cell_type": "markdown",
      "metadata": {
        "id": "6QYplVm0pYpF"
      },
      "source": [
        "# Camera Test"
      ]
    },
    {
      "cell_type": "code",
      "metadata": {
        "id": "tt93PAz9mvnd"
      },
      "source": [
        "#TODO:  USAR CODE SNIPPETS (CAMERA CAPTURE)\n",
        "#TODO: REALIZAR INFERENCIA"
      ],
      "execution_count": null,
      "outputs": []
    },
    {
      "cell_type": "markdown",
      "metadata": {
        "id": "ADFa-go0phuI"
      },
      "source": [
        "# Video Test"
      ]
    },
    {
      "cell_type": "markdown",
      "metadata": {
        "id": "Txoc3njrD1Eu"
      },
      "source": [
        "Se apresenta um código que abre um vídeo e itera sobre todos os frames. Utiliza-se este código base para implemtar a inferência sobre um vídeo.\n",
        "\n",
        "https://www.pexels.com/video/cars-on-highway-854671/"
      ]
    },
    {
      "cell_type": "code",
      "metadata": {
        "id": "vVF8mv48tne0"
      },
      "source": [
        "url = upload_public('Cars On Highway.mp4')\n",
        "HTML(f\"\"\"<video src={url} width=1000 controls/>\"\"\")"
      ],
      "execution_count": null,
      "outputs": []
    },
    {
      "cell_type": "code",
      "metadata": {
        "id": "Bthxb-Fzp2yT"
      },
      "source": [
        "video_input='video.mp4'\n",
        "video_output='inference.mp4'\n",
        "\n",
        "# Configuration input video\n",
        "cap = cv2.VideoCapture(video_input)\n",
        "frame_width, frame_height = (640,480)\n",
        "num_frames = int(cap.get(cv2.CAP_PROP_FRAME_COUNT))\n",
        "\n",
        "# Configuration output video\n",
        "fourcc =cv2.VideoWriter_fourcc(*'MP4V')\n",
        "out = cv2.VideoWriter(video_output,fourcc, 20.0, (frame_width, frame_height))\n",
        "\n",
        "# TODO: DEFINIR MODELO\n",
        "\n",
        "for id_frame in tqdm(range(0,num_frames,10)):\n",
        "  cap.set(cv2.CAP_PROP_POS_FRAMES,id_frame)\n",
        "  flag, frame = cap.read()\n",
        "\n",
        "  if flag:\n",
        "    frame = cv2.resize(frame, (frame_width, frame_height))\n",
        "\n",
        "    #TODO: INFERENCIA \n",
        "\n",
        "    out_frame = # TODO: VISUALIZACAO\n",
        "    \n",
        "    out.write(out_frame[:,:,::-1].astype('uint8'))\n",
        "\n",
        "cap.release()\n",
        "out.release()"
      ],
      "execution_count": null,
      "outputs": []
    }
  ]
}